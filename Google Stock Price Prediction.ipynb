{
 "cells": [
  {
   "cell_type": "markdown",
   "id": "1852adc8",
   "metadata": {},
   "source": [
    "# Recurrent Neural Network\n",
    "\n"
   ]
  },
  {
   "cell_type": "markdown",
   "id": "2f1c10e6",
   "metadata": {},
   "source": [
    "# Part 1 = Data Preprocessing\n",
    "\n",
    "Importing the libraries"
   ]
  },
  {
   "cell_type": "code",
   "execution_count": 1,
   "id": "e5e215cd",
   "metadata": {},
   "outputs": [],
   "source": [
    "import numpy as np\n",
    "import matplotlib.pyplot as plt\n",
    "import pandas as pd"
   ]
  },
  {
   "cell_type": "markdown",
   "id": "4295707d",
   "metadata": {},
   "source": [
    "# Importing the training set"
   ]
  },
  {
   "cell_type": "code",
   "execution_count": 2,
   "id": "c8347322",
   "metadata": {},
   "outputs": [
    {
     "data": {
      "text/html": [
       "<div>\n",
       "<style scoped>\n",
       "    .dataframe tbody tr th:only-of-type {\n",
       "        vertical-align: middle;\n",
       "    }\n",
       "\n",
       "    .dataframe tbody tr th {\n",
       "        vertical-align: top;\n",
       "    }\n",
       "\n",
       "    .dataframe thead th {\n",
       "        text-align: right;\n",
       "    }\n",
       "</style>\n",
       "<table border=\"1\" class=\"dataframe\">\n",
       "  <thead>\n",
       "    <tr style=\"text-align: right;\">\n",
       "      <th></th>\n",
       "      <th>Date</th>\n",
       "      <th>Open</th>\n",
       "      <th>High</th>\n",
       "      <th>Low</th>\n",
       "      <th>Close</th>\n",
       "      <th>Volume</th>\n",
       "    </tr>\n",
       "  </thead>\n",
       "  <tbody>\n",
       "    <tr>\n",
       "      <th>0</th>\n",
       "      <td>01-03-2012</td>\n",
       "      <td>325.25</td>\n",
       "      <td>332.83</td>\n",
       "      <td>324.97</td>\n",
       "      <td>663.59</td>\n",
       "      <td>73,80,500</td>\n",
       "    </tr>\n",
       "    <tr>\n",
       "      <th>1</th>\n",
       "      <td>01-04-2012</td>\n",
       "      <td>331.27</td>\n",
       "      <td>333.87</td>\n",
       "      <td>329.08</td>\n",
       "      <td>666.45</td>\n",
       "      <td>57,49,400</td>\n",
       "    </tr>\n",
       "    <tr>\n",
       "      <th>2</th>\n",
       "      <td>01-05-2012</td>\n",
       "      <td>329.83</td>\n",
       "      <td>330.75</td>\n",
       "      <td>326.89</td>\n",
       "      <td>657.21</td>\n",
       "      <td>65,90,300</td>\n",
       "    </tr>\n",
       "    <tr>\n",
       "      <th>3</th>\n",
       "      <td>01-06-2012</td>\n",
       "      <td>328.34</td>\n",
       "      <td>328.77</td>\n",
       "      <td>323.68</td>\n",
       "      <td>648.24</td>\n",
       "      <td>54,05,900</td>\n",
       "    </tr>\n",
       "    <tr>\n",
       "      <th>4</th>\n",
       "      <td>01-09-2012</td>\n",
       "      <td>322.04</td>\n",
       "      <td>322.29</td>\n",
       "      <td>309.46</td>\n",
       "      <td>620.76</td>\n",
       "      <td>1,16,88,800</td>\n",
       "    </tr>\n",
       "  </tbody>\n",
       "</table>\n",
       "</div>"
      ],
      "text/plain": [
       "         Date    Open    High     Low   Close       Volume\n",
       "0  01-03-2012  325.25  332.83  324.97  663.59    73,80,500\n",
       "1  01-04-2012  331.27  333.87  329.08  666.45    57,49,400\n",
       "2  01-05-2012  329.83  330.75  326.89  657.21    65,90,300\n",
       "3  01-06-2012  328.34  328.77  323.68  648.24    54,05,900\n",
       "4  01-09-2012  322.04  322.29  309.46  620.76  1,16,88,800"
      ]
     },
     "execution_count": 2,
     "metadata": {},
     "output_type": "execute_result"
    }
   ],
   "source": [
    "dataset_train = pd.read_csv('Google_Stock_Price_Train.csv')\n",
    "dataset_train.head()"
   ]
  },
  {
   "cell_type": "code",
   "execution_count": 3,
   "id": "6445b9f5",
   "metadata": {},
   "outputs": [
    {
     "data": {
      "text/plain": [
       "array([[325.25],\n",
       "       [331.27],\n",
       "       [329.83],\n",
       "       ...,\n",
       "       [793.7 ],\n",
       "       [783.33],\n",
       "       [782.75]])"
      ]
     },
     "execution_count": 3,
     "metadata": {},
     "output_type": "execute_result"
    }
   ],
   "source": [
    "training_set = dataset_train.iloc[:, 1:2].values\n",
    "training_set"
   ]
  },
  {
   "cell_type": "markdown",
   "id": "f9d176d2",
   "metadata": {},
   "source": [
    "# Feature Scalling"
   ]
  },
  {
   "cell_type": "code",
   "execution_count": 4,
   "id": "2e7b061d",
   "metadata": {},
   "outputs": [],
   "source": [
    "from sklearn.preprocessing import MinMaxScaler\n",
    "sc = MinMaxScaler()\n",
    "training_set_scaled = sc.fit_transform(training_set)"
   ]
  },
  {
   "cell_type": "code",
   "execution_count": 5,
   "id": "8f2739b9",
   "metadata": {},
   "outputs": [
    {
     "data": {
      "text/plain": [
       "(1258, 1)"
      ]
     },
     "execution_count": 5,
     "metadata": {},
     "output_type": "execute_result"
    }
   ],
   "source": [
    "training_set.shape"
   ]
  },
  {
   "cell_type": "markdown",
   "id": "27809c83",
   "metadata": {},
   "source": [
    "# Ceating a data structure with 60 timesteps and 1 output"
   ]
  },
  {
   "cell_type": "code",
   "execution_count": 6,
   "id": "9a39ce35",
   "metadata": {},
   "outputs": [],
   "source": [
    "x_train = []\n",
    "y_train = []\n",
    "for i in range(60, 1258):\n",
    "    x_train.append(training_set_scaled[i-60:i, 0])\n",
    "    y_train.append(training_set_scaled[i, 0])\n",
    "    \n",
    "x_train, y_train = np.array(x_train), np.array(y_train)"
   ]
  },
  {
   "cell_type": "markdown",
   "id": "d373e19a",
   "metadata": {},
   "source": [
    "# Reshaping"
   ]
  },
  {
   "cell_type": "code",
   "execution_count": 7,
   "id": "f6bfb767",
   "metadata": {},
   "outputs": [],
   "source": [
    "x_train = np.reshape(x_train, (x_train.shape[0], x_train.shape[1], 1))"
   ]
  },
  {
   "cell_type": "markdown",
   "id": "d95f68ae",
   "metadata": {},
   "source": [
    "# part 2 - Building and Training the RNN\n",
    "\n",
    "Importing the keras libraries and packages"
   ]
  },
  {
   "cell_type": "code",
   "execution_count": 8,
   "id": "d3c80ad5",
   "metadata": {},
   "outputs": [],
   "source": [
    "from keras.models import Sequential\n",
    "from keras.layers import Dense\n",
    "from keras.layers import LSTM\n",
    "from keras.layers import Dropout"
   ]
  },
  {
   "cell_type": "markdown",
   "id": "dfe75cbc",
   "metadata": {},
   "source": [
    "# Initialising the RNN"
   ]
  },
  {
   "cell_type": "code",
   "execution_count": 9,
   "id": "58a9d411",
   "metadata": {},
   "outputs": [],
   "source": [
    "regressor = Sequential()"
   ]
  },
  {
   "cell_type": "markdown",
   "id": "d483d3f7",
   "metadata": {},
   "source": [
    "# Adding the first LSTM layer and Dropout regularisation"
   ]
  },
  {
   "cell_type": "code",
   "execution_count": 10,
   "id": "6f235a89",
   "metadata": {},
   "outputs": [],
   "source": [
    "regressor.add(LSTM(units = 50, return_sequences = True, input_shape = (x_train.shape[1], 1)))\n",
    "regressor.add(Dropout(0.2))"
   ]
  },
  {
   "cell_type": "markdown",
   "id": "89ec7a28",
   "metadata": {},
   "source": [
    "# Adding a second LSTM layer and some Dropout regularisation"
   ]
  },
  {
   "cell_type": "code",
   "execution_count": 11,
   "id": "56282f98",
   "metadata": {},
   "outputs": [],
   "source": [
    "regressor.add(LSTM(units = 50, return_sequences = True,))\n",
    "regressor.add(Dropout(0.2))"
   ]
  },
  {
   "cell_type": "markdown",
   "id": "2bb4310c",
   "metadata": {},
   "source": [
    "# Adding a third LSTM layer and some Dropout regularisation¶"
   ]
  },
  {
   "cell_type": "code",
   "execution_count": 12,
   "id": "9ca34457",
   "metadata": {},
   "outputs": [],
   "source": [
    "regressor.add(LSTM(units = 50, return_sequences = True,))\n",
    "regressor.add(Dropout(0.2))"
   ]
  },
  {
   "cell_type": "markdown",
   "id": "8484caa6",
   "metadata": {},
   "source": [
    "# Adding a fourth LSTM layer and some Dropout regularisation¶"
   ]
  },
  {
   "cell_type": "code",
   "execution_count": 13,
   "id": "4b5e62f2",
   "metadata": {},
   "outputs": [],
   "source": [
    "regressor.add(LSTM(units = 50))\n",
    "regressor.add(Dropout(0.2))"
   ]
  },
  {
   "cell_type": "markdown",
   "id": "500e55f5",
   "metadata": {},
   "source": [
    "# Adding the output layer"
   ]
  },
  {
   "cell_type": "code",
   "execution_count": 14,
   "id": "8f68b912",
   "metadata": {},
   "outputs": [],
   "source": [
    "regressor.add(Dense(units = 1))"
   ]
  },
  {
   "cell_type": "markdown",
   "id": "0ef60d84",
   "metadata": {},
   "source": [
    "# Compiling the RNN"
   ]
  },
  {
   "cell_type": "code",
   "execution_count": 15,
   "id": "6f90c1be",
   "metadata": {},
   "outputs": [],
   "source": [
    "regressor.compile(optimizer = 'adam' , loss = 'mean_squared_error')"
   ]
  },
  {
   "cell_type": "markdown",
   "id": "e990a438",
   "metadata": {},
   "source": [
    "# Fitting the RNN to Training set"
   ]
  },
  {
   "cell_type": "code",
   "execution_count": 16,
   "id": "0704f0a7",
   "metadata": {},
   "outputs": [
    {
     "name": "stdout",
     "output_type": "stream",
     "text": [
      "Epoch 1/100\n",
      "38/38 [==============================] - 10s 66ms/step - loss: 0.0427\n",
      "Epoch 2/100\n",
      "38/38 [==============================] - 3s 66ms/step - loss: 0.0061\n",
      "Epoch 3/100\n",
      "38/38 [==============================] - 3s 67ms/step - loss: 0.0054\n",
      "Epoch 4/100\n",
      "38/38 [==============================] - 3s 66ms/step - loss: 0.0050\n",
      "Epoch 5/100\n",
      "38/38 [==============================] - 3s 66ms/step - loss: 0.0049\n",
      "Epoch 6/100\n",
      "38/38 [==============================] - 3s 66ms/step - loss: 0.0045\n",
      "Epoch 7/100\n",
      "38/38 [==============================] - 3s 66ms/step - loss: 0.0052\n",
      "Epoch 8/100\n",
      "38/38 [==============================] - 3s 66ms/step - loss: 0.0050\n",
      "Epoch 9/100\n",
      "38/38 [==============================] - 3s 66ms/step - loss: 0.0053\n",
      "Epoch 10/100\n",
      "38/38 [==============================] - 3s 66ms/step - loss: 0.0042\n",
      "Epoch 11/100\n",
      "38/38 [==============================] - 3s 66ms/step - loss: 0.0038\n",
      "Epoch 12/100\n",
      "38/38 [==============================] - 3s 66ms/step - loss: 0.0044\n",
      "Epoch 13/100\n",
      "38/38 [==============================] - 3s 66ms/step - loss: 0.0042\n",
      "Epoch 14/100\n",
      "38/38 [==============================] - 3s 66ms/step - loss: 0.0039\n",
      "Epoch 15/100\n",
      "38/38 [==============================] - 3s 66ms/step - loss: 0.0049\n",
      "Epoch 16/100\n",
      "38/38 [==============================] - 3s 67ms/step - loss: 0.0048\n",
      "Epoch 17/100\n",
      "38/38 [==============================] - 3s 67ms/step - loss: 0.0033\n",
      "Epoch 18/100\n",
      "38/38 [==============================] - 3s 67ms/step - loss: 0.0032\n",
      "Epoch 19/100\n",
      "38/38 [==============================] - 3s 67ms/step - loss: 0.0033\n",
      "Epoch 20/100\n",
      "38/38 [==============================] - 3s 73ms/step - loss: 0.0035\n",
      "Epoch 21/100\n",
      "38/38 [==============================] - 3s 75ms/step - loss: 0.0032\n",
      "Epoch 22/100\n",
      "38/38 [==============================] - 3s 75ms/step - loss: 0.0039\n",
      "Epoch 23/100\n",
      "38/38 [==============================] - 3s 74ms/step - loss: 0.0031\n",
      "Epoch 24/100\n",
      "38/38 [==============================] - 3s 75ms/step - loss: 0.0035\n",
      "Epoch 25/100\n",
      "38/38 [==============================] - 3s 76ms/step - loss: 0.0034\n",
      "Epoch 26/100\n",
      "38/38 [==============================] - 3s 74ms/step - loss: 0.0035\n",
      "Epoch 27/100\n",
      "38/38 [==============================] - 3s 74ms/step - loss: 0.0032\n",
      "Epoch 28/100\n",
      "38/38 [==============================] - 3s 74ms/step - loss: 0.0033\n",
      "Epoch 29/100\n",
      "38/38 [==============================] - 3s 75ms/step - loss: 0.0028\n",
      "Epoch 30/100\n",
      "38/38 [==============================] - 3s 75ms/step - loss: 0.0030\n",
      "Epoch 31/100\n",
      "38/38 [==============================] - 3s 74ms/step - loss: 0.0028\n",
      "Epoch 32/100\n",
      "38/38 [==============================] - 3s 74ms/step - loss: 0.0028\n",
      "Epoch 33/100\n",
      "38/38 [==============================] - 3s 74ms/step - loss: 0.0029\n",
      "Epoch 34/100\n",
      "38/38 [==============================] - 3s 74ms/step - loss: 0.0028\n",
      "Epoch 35/100\n",
      "38/38 [==============================] - 3s 73ms/step - loss: 0.0027\n",
      "Epoch 36/100\n",
      "38/38 [==============================] - 3s 75ms/step - loss: 0.0029\n",
      "Epoch 37/100\n",
      "38/38 [==============================] - 3s 74ms/step - loss: 0.0029\n",
      "Epoch 38/100\n",
      "38/38 [==============================] - 3s 75ms/step - loss: 0.0027\n",
      "Epoch 39/100\n",
      "38/38 [==============================] - 3s 74ms/step - loss: 0.0030\n",
      "Epoch 40/100\n",
      "38/38 [==============================] - 3s 75ms/step - loss: 0.0027\n",
      "Epoch 41/100\n",
      "38/38 [==============================] - 3s 75ms/step - loss: 0.0027\n",
      "Epoch 42/100\n",
      "38/38 [==============================] - 3s 75ms/step - loss: 0.0026\n",
      "Epoch 43/100\n",
      "38/38 [==============================] - 3s 75ms/step - loss: 0.0027\n",
      "Epoch 44/100\n",
      "38/38 [==============================] - 3s 74ms/step - loss: 0.0028\n",
      "Epoch 45/100\n",
      "38/38 [==============================] - 3s 75ms/step - loss: 0.0024\n",
      "Epoch 46/100\n",
      "38/38 [==============================] - 3s 75ms/step - loss: 0.0027\n",
      "Epoch 47/100\n",
      "38/38 [==============================] - 3s 75ms/step - loss: 0.0025\n",
      "Epoch 48/100\n",
      "38/38 [==============================] - 3s 75ms/step - loss: 0.0024\n",
      "Epoch 49/100\n",
      "38/38 [==============================] - 3s 75ms/step - loss: 0.0024\n",
      "Epoch 50/100\n",
      "38/38 [==============================] - 3s 75ms/step - loss: 0.0024\n",
      "Epoch 51/100\n",
      "38/38 [==============================] - 3s 75ms/step - loss: 0.0024\n",
      "Epoch 52/100\n",
      "38/38 [==============================] - 3s 75ms/step - loss: 0.0023\n",
      "Epoch 53/100\n",
      "38/38 [==============================] - 3s 75ms/step - loss: 0.0024\n",
      "Epoch 54/100\n",
      "38/38 [==============================] - 3s 75ms/step - loss: 0.0022\n",
      "Epoch 55/100\n",
      "38/38 [==============================] - 3s 74ms/step - loss: 0.0025\n",
      "Epoch 56/100\n",
      "38/38 [==============================] - 3s 74ms/step - loss: 0.0021\n",
      "Epoch 57/100\n",
      "38/38 [==============================] - 3s 75ms/step - loss: 0.0022\n",
      "Epoch 58/100\n",
      "38/38 [==============================] - 3s 74ms/step - loss: 0.0020\n",
      "Epoch 59/100\n",
      "38/38 [==============================] - 3s 76ms/step - loss: 0.0019\n",
      "Epoch 60/100\n",
      "38/38 [==============================] - 3s 75ms/step - loss: 0.0025\n",
      "Epoch 61/100\n",
      "38/38 [==============================] - 3s 75ms/step - loss: 0.0023\n",
      "Epoch 62/100\n",
      "38/38 [==============================] - 3s 75ms/step - loss: 0.0021\n",
      "Epoch 63/100\n",
      "38/38 [==============================] - 3s 75ms/step - loss: 0.0020\n",
      "Epoch 64/100\n",
      "38/38 [==============================] - 3s 75ms/step - loss: 0.0019\n",
      "Epoch 65/100\n",
      "38/38 [==============================] - 3s 75ms/step - loss: 0.0019\n",
      "Epoch 66/100\n",
      "38/38 [==============================] - 3s 86ms/step - loss: 0.0020\n",
      "Epoch 67/100\n",
      "38/38 [==============================] - 3s 92ms/step - loss: 0.0021\n",
      "Epoch 68/100\n",
      "38/38 [==============================] - 3s 77ms/step - loss: 0.0019\n",
      "Epoch 69/100\n",
      "38/38 [==============================] - 3s 75ms/step - loss: 0.0018\n",
      "Epoch 70/100\n",
      "38/38 [==============================] - 3s 75ms/step - loss: 0.0019\n",
      "Epoch 71/100\n",
      "38/38 [==============================] - 3s 74ms/step - loss: 0.0017\n",
      "Epoch 72/100\n",
      "38/38 [==============================] - 3s 75ms/step - loss: 0.0021\n",
      "Epoch 73/100\n",
      "38/38 [==============================] - 3s 74ms/step - loss: 0.0020\n",
      "Epoch 74/100\n",
      "38/38 [==============================] - 3s 79ms/step - loss: 0.0019\n",
      "Epoch 75/100\n",
      "38/38 [==============================] - 3s 75ms/step - loss: 0.0017\n",
      "Epoch 76/100\n",
      "38/38 [==============================] - 3s 74ms/step - loss: 0.0018\n",
      "Epoch 77/100\n",
      "38/38 [==============================] - 3s 76ms/step - loss: 0.0018\n",
      "Epoch 78/100\n",
      "38/38 [==============================] - 3s 76ms/step - loss: 0.0016\n",
      "Epoch 79/100\n",
      "38/38 [==============================] - 3s 75ms/step - loss: 0.0017\n",
      "Epoch 80/100\n",
      "38/38 [==============================] - 3s 76ms/step - loss: 0.0018\n",
      "Epoch 81/100\n",
      "38/38 [==============================] - 3s 76ms/step - loss: 0.0017\n",
      "Epoch 82/100\n",
      "38/38 [==============================] - 3s 76ms/step - loss: 0.0016\n",
      "Epoch 83/100\n",
      "38/38 [==============================] - 3s 75ms/step - loss: 0.0016\n",
      "Epoch 84/100\n",
      "38/38 [==============================] - 3s 75ms/step - loss: 0.0017\n",
      "Epoch 85/100\n",
      "38/38 [==============================] - 3s 75ms/step - loss: 0.0016\n",
      "Epoch 86/100\n",
      "38/38 [==============================] - 3s 75ms/step - loss: 0.0016\n",
      "Epoch 87/100\n",
      "38/38 [==============================] - 3s 74ms/step - loss: 0.0017\n",
      "Epoch 88/100\n",
      "38/38 [==============================] - 3s 76ms/step - loss: 0.0016\n",
      "Epoch 89/100\n",
      "38/38 [==============================] - 3s 78ms/step - loss: 0.0014\n",
      "Epoch 90/100\n",
      "38/38 [==============================] - 3s 89ms/step - loss: 0.0017\n",
      "Epoch 91/100\n",
      "38/38 [==============================] - 3s 87ms/step - loss: 0.0014\n",
      "Epoch 92/100\n",
      "38/38 [==============================] - 3s 79ms/step - loss: 0.0014\n",
      "Epoch 93/100\n",
      "38/38 [==============================] - 3s 91ms/step - loss: 0.0014\n",
      "Epoch 94/100\n",
      "38/38 [==============================] - 4s 100ms/step - loss: 0.0013\n",
      "Epoch 95/100\n",
      "38/38 [==============================] - 3s 89ms/step - loss: 0.0015\n",
      "Epoch 96/100\n",
      "38/38 [==============================] - 3s 81ms/step - loss: 0.0018\n",
      "Epoch 97/100\n",
      "38/38 [==============================] - 3s 74ms/step - loss: 0.0016\n",
      "Epoch 98/100\n",
      "38/38 [==============================] - 3s 72ms/step - loss: 0.0015\n",
      "Epoch 99/100\n",
      "38/38 [==============================] - 3s 73ms/step - loss: 0.0014\n",
      "Epoch 100/100\n",
      "38/38 [==============================] - 3s 74ms/step - loss: 0.0013\n"
     ]
    },
    {
     "data": {
      "text/plain": [
       "<keras.callbacks.History at 0x1a28f484520>"
      ]
     },
     "execution_count": 16,
     "metadata": {},
     "output_type": "execute_result"
    }
   ],
   "source": [
    "regressor.fit(x_train, y_train, epochs = 100, batch_size=32)"
   ]
  },
  {
   "cell_type": "code",
   "execution_count": 17,
   "id": "478f575c",
   "metadata": {},
   "outputs": [
    {
     "name": "stdout",
     "output_type": "stream",
     "text": [
      "38/38 [==============================] - 3s 24ms/step\n"
     ]
    }
   ],
   "source": [
    "pred=regressor.predict(x_train)"
   ]
  },
  {
   "cell_type": "markdown",
   "id": "7fd5786e",
   "metadata": {},
   "source": [
    "# Evaluating the RNN"
   ]
  },
  {
   "cell_type": "code",
   "execution_count": 18,
   "id": "b62bc172",
   "metadata": {},
   "outputs": [
    {
     "data": {
      "text/plain": [
       "0.021331424906501147"
      ]
     },
     "execution_count": 18,
     "metadata": {},
     "output_type": "execute_result"
    }
   ],
   "source": [
    "import math\n",
    "from sklearn.metrics import mean_squared_error\n",
    "rmse = math.sqrt(mean_squared_error(y_train, pred))\n",
    "rmse"
   ]
  },
  {
   "cell_type": "markdown",
   "id": "64a59f29",
   "metadata": {},
   "source": [
    "# part - 3 Making the predictions and visualising the results\n",
    "\n",
    "Getting the real stock price of 2017"
   ]
  },
  {
   "cell_type": "code",
   "execution_count": 19,
   "id": "93e1b368",
   "metadata": {},
   "outputs": [],
   "source": [
    "dataset_test = pd.read_csv('Google_Stock_Price_Test.csv')\n",
    "real_stock_price = dataset_test.iloc[:, 1:2].values"
   ]
  },
  {
   "cell_type": "markdown",
   "id": "bf9e190a",
   "metadata": {},
   "source": [
    "# Getting the predicted stock price of 2017"
   ]
  },
  {
   "cell_type": "code",
   "execution_count": 20,
   "id": "e2d17b10",
   "metadata": {},
   "outputs": [
    {
     "name": "stdout",
     "output_type": "stream",
     "text": [
      "1/1 [==============================] - 0s 52ms/step\n"
     ]
    }
   ],
   "source": [
    "dataset_total = pd.concat((dataset_train['Open'], dataset_test['Open']),axis=0)\n",
    "input = dataset_total[len(dataset_total) - len(dataset_test)-60:].values\n",
    "input = input.reshape(-1,1)\n",
    "input = sc.transform(input)\n",
    "x_test = []\n",
    "for i in range(60, 80):\n",
    "    x_test.append(input[i-60:i, 0])\n",
    "x_test = np.array(x_test)\n",
    "x_test = np.reshape(x_test, (x_test.shape[0], x_test.shape[1],1))\n",
    "predicted_stock_price = regressor.predict(x_test)\n",
    "predicted_stock_price = sc.inverse_transform(predicted_stock_price)"
   ]
  },
  {
   "cell_type": "markdown",
   "id": "4c7c2824",
   "metadata": {},
   "source": [
    "# Visualising the results"
   ]
  },
  {
   "cell_type": "code",
   "execution_count": 21,
   "id": "5f7a6589",
   "metadata": {},
   "outputs": [
    {
     "data": {
      "image/png": "[encoded data removed]",
      "text/plain": [
       "<Figure size 640x480 with 1 Axes>"
      ]
     },
     "metadata": {},
     "output_type": "display_data"
    }
   ],
   "source": [
    "plt.plot(real_stock_price, color = 'red' , label = 'Real Google Stock Price')\n",
    "plt.plot(predicted_stock_price, color = 'blue', label = 'Predicted Google Stock Price')\n",
    "plt.title('Google Stock Price Prediction')\n",
    "plt.xlabel('Time')\n",
    "plt.ylabel('Google Stock Price')\n",
    "plt.legend()\n",
    "plt.show()"
   ]
  },
  {
   "cell_type": "code",
   "execution_count": null,
   "id": "c5511ffe",
   "metadata": {},
   "outputs": [],
   "source": []
  }
 ],
 "metadata": {
  "kernelspec": {
   "display_name": "Python 3 (ipykernel)",
   "language": "python",
   "name": "python3"
  },
  "language_info": {
   "codemirror_mode": {
    "name": "ipython",
    "version": 3
   },
   "file_extension": ".py",
   "mimetype": "text/x-python",
   "name": "python",
   "nbconvert_exporter": "python",
   "pygments_lexer": "ipython3",
   "version": "3.9.13"
  }
 },
 "nbformat": 4,
 "nbformat_minor": 5
}
